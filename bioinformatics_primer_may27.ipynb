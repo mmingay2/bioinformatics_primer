{
  "nbformat": 4,
  "nbformat_minor": 0,
  "metadata": {
    "colab": {
      "name": "bioinformatics_primer_may27.ipynb",
      "provenance": [],
      "collapsed_sections": [],
      "include_colab_link": true
    },
    "kernelspec": {
      "name": "python3",
      "display_name": "Python 3"
    }
  },
  "cells": [
    {
      "cell_type": "markdown",
      "metadata": {
        "id": "view-in-github",
        "colab_type": "text"
      },
      "source": [
        "<a href=\"https://colab.research.google.com/github/mmingay2/bioinformatics_primer/blob/master/bioinformatics_primer_may27.ipynb\" target=\"_parent\"><img src=\"https://colab.research.google.com/assets/colab-badge.svg\" alt=\"Open In Colab\"/></a>"
      ]
    },
    {
      "cell_type": "markdown",
      "metadata": {
        "id": "AGlFJg0OLWYo",
        "colab_type": "text"
      },
      "source": [
        "# Genomics Scavenger Hunt\n",
        "\n",
        "---"
      ]
    },
    {
      "cell_type": "markdown",
      "metadata": {
        "id": "3ouf6UIdEnCq",
        "colab_type": "text"
      },
      "source": [
        "# Introduction"
      ]
    },
    {
      "cell_type": "markdown",
      "metadata": {
        "id": "I4EBkRGCbuoj",
        "colab_type": "text"
      },
      "source": [
        "## Jupyter Notebooks (via Google Colab)"
      ]
    },
    {
      "cell_type": "markdown",
      "metadata": {
        "id": "E3E8L-NgH0a0",
        "colab_type": "text"
      },
      "source": [
        "Welcome to the genomics scavenger hunt. Please answer the questions below. This jupyter notebook is hosted by Google Colab and can do many useful things on a remote server.\n",
        "\n",
        "You can run python3 code in the code cells.\n"
      ]
    },
    {
      "cell_type": "code",
      "metadata": {
        "id": "o1x4JbOhEcpV",
        "colab_type": "code",
        "outputId": "7f42af1f-3097-47dc-dccd-7a5ff80d1ac8",
        "colab": {
          "base_uri": "https://localhost:8080/",
          "height": 35
        }
      },
      "source": [
        "print(\"Hello World\")"
      ],
      "execution_count": 0,
      "outputs": [
        {
          "output_type": "stream",
          "text": [
            "Hello World\n"
          ],
          "name": "stdout"
        }
      ]
    },
    {
      "cell_type": "markdown",
      "metadata": {
        "id": "vae10B-HEekW",
        "colab_type": "text"
      },
      "source": [
        "You can run shell commands by including an exclamation mark infront of your code (in a code cell). \n"
      ]
    },
    {
      "cell_type": "code",
      "metadata": {
        "id": "37FDlWlCEhsa",
        "colab_type": "code",
        "colab": {}
      },
      "source": [
        "!ls -lt\n",
        "!echo \"hello world\""
      ],
      "execution_count": 0,
      "outputs": []
    },
    {
      "cell_type": "markdown",
      "metadata": {
        "id": "5-GE_-LkElka",
        "colab_type": "text"
      },
      "source": [
        "\n",
        "You can also write text and Markdown in text cells.\n",
        "\n",
        "For an intro to jupyter notebooks please see the [Jupyter Website](https://jupyter.org/). \n",
        "\n",
        "We will be mainly using this notebook so you can run shell commands. If you prefer you can run the same commands locally in a terminal (at your own risk).\n",
        "\n",
        "Ex:\n",
        "\n",
        "`!ls -lt`\n",
        "\n",
        "---"
      ]
    },
    {
      "cell_type": "markdown",
      "metadata": {
        "id": "87fAWaJvWP-T",
        "colab_type": "text"
      },
      "source": [
        "# Coronavirus (SARS-Cov2), ACE2 and Public Gene Expression Data\n",
        "\n",
        "Angiotensin-converting enzyme 2 ([ACE2](https://en.wikipedia.org/wiki/Angiotensin-converting_enzyme_2)) is an enzyme attached to the outer surface (cell membranes) of cells in the lungs, arteries, heart, kidney, and intestines.\n",
        "\n",
        "ACE2 also serves as the entry point into cells for some coronaviruses including Severe acute respiratory syndrome coronavirus 2. The human version of the enzyme is often referred to as hACE2.\n",
        "\n",
        "The structure and position of genes like ACE2 can be visualized in the context of the entire genome using genome browsers like the [UCSC genome browser](https://genome.ucsc.edu/cgi-bin/hgTracks?hgsid=838564575_KY3vUn4qihc6bEqDTKMaYaxXUTbl&db=hg38&position=lastDbPos).\n",
        "\n",
        "Different genes (ex. ACE2) are expressed at different levels in different cells a tissue within an organism. This 'expression' level is actual a way of representing the relative number of [mRNA](https://en.wikipedia.org/wiki/Messenger_RNA) molecules for a given gene in a sample. \n",
        "\n",
        "Gene expression data has been generated for many different cancer types and can be explored using many publically available tools.\n",
        "\n",
        "[Morpheus](https://software.broadinstitute.org/morpheus/) is a powerful tool for exploring gene expression data. It has many publically available gene expression datasets pre-loaded for browsing.\n"
      ]
    },
    {
      "cell_type": "markdown",
      "metadata": {
        "id": "F8q2Te3-YB4s",
        "colab_type": "text"
      },
      "source": [
        "### Questions\n",
        "\n",
        "1. Using the [UCSC genome browser](https://genome.ucsc.edu/cgi-bin/hgTracks?hgsid=838564575_KY3vUn4qihc6bEqDTKMaYaxXUTbl&db=hg38&position=lastDbPos) and the human genome (hg38) provide the chromosomal coordinates (ex. Chr1:1-1000) of the ACE2 gene and take screenshot of the UCSC Browser at this site.\n",
        "\n",
        "2. Using Morpheus and the [TCGA](https://www.cancer.gov/about-nci/organization/ccg/research/structural-genomics/tcga) data, get the expression value of the ACE2 gene in Lung squamous cell carcinoma (LUSC) data for `participant_id 1080`.\n",
        "\n",
        "> **HINT**: Open [Morpheus](https://software.broadinstitute.org/morpheus/) > click `Preloaded Datasets` > Select `Lung squamous cell carcinoma (LUSC)` > Select `GENE EXPRESSION` > Click `Open` > look at expression values for different genes in different participants by hovering your mouse over a square.\n",
        "\n",
        "\n",
        "3. What gene is most highly expressed in `participant_id 1080` from the `Lung squamous cell carcinoma (LUSC)` dataset?\n",
        "\n",
        "4. Check out the [morpheus tutorials](https://software.broadinstitute.org/morpheus/tutorial.html) especially tutorial #5 on creating the `Calculated Annotation` called `VARIANCE()`.\n",
        "\n",
        "  a. What are the top 3 most variable genes from the `Lung squamous cell carcinoma (LUSC)` dataset??\n",
        "\n",
        "  b. Research the function of the gene `XIST`. Why do you think this gene has such a high variance between participants?\n",
        "\n",
        "---"
      ]
    },
    {
      "cell_type": "markdown",
      "metadata": {
        "id": "sFc9SjTO9UD6",
        "colab_type": "text"
      },
      "source": [
        "### Answers\n",
        "\n",
        "1.\n",
        "\n",
        "2.\n",
        "\n",
        "3.\n",
        "\n",
        "4."
      ]
    },
    {
      "cell_type": "markdown",
      "metadata": {
        "id": "FH6WWMeDbnRY",
        "colab_type": "text"
      },
      "source": [
        "# DNA sequencing Data Types"
      ]
    },
    {
      "cell_type": "markdown",
      "metadata": {
        "id": "MfdQynYKK0Kj",
        "colab_type": "text"
      },
      "source": [
        "## Fastq Files\n",
        "\n",
        "FASTQ format is the de facto text-based format for storing biological sequence data like the data generated from Illumina DNA Sequencers. Watch the video below for an example of how Illumina Sequencing works.\n",
        "\n",
        "https://www.youtube.com/watch?v=fCd6B5HRaZ8\n",
        "\n",
        "Data in fastq format is the starting point for almost all DNA sequencing based analyses. Entries in a fastq file are called \"reads\".\n",
        "\n",
        "You can learn more about the fastq file format on [wikipedia](https://en.wikipedia.org/wiki/FASTQ_format).\n",
        "\n"
      ]
    },
    {
      "cell_type": "markdown",
      "metadata": {
        "id": "7zVkf9hDIdzX",
        "colab_type": "text"
      },
      "source": [
        "I've created a small fastq file from some publically available sequencing data that you can download it using `wget`.\n",
        "\n",
        "After running `wget` you can run `ls -lt` to list the contents of this working directory.\n",
        "\n",
        "You will see that there is a file called small_reads.fastq."
      ]
    },
    {
      "cell_type": "code",
      "metadata": {
        "id": "6s_UWl24Hq0P",
        "colab_type": "code",
        "colab": {}
      },
      "source": [
        "# remove any previous *.fastq\n",
        "!rm small_reads.fastq*\n",
        "# download the fastq file using wget\n",
        "!wget -q https://portal.nersc.gov/cfs/m342/jgi_usa/scavenger_hunt/small_reads.fastq\n",
        "# check the directory contents\n",
        "!ls -lt"
      ],
      "execution_count": 0,
      "outputs": []
    },
    {
      "cell_type": "markdown",
      "metadata": {
        "id": "AdVsRYExPbT3",
        "colab_type": "text"
      },
      "source": [
        "Check out the first 10 lines of the fastq file"
      ]
    },
    {
      "cell_type": "code",
      "metadata": {
        "id": "mDdIZzcQHv21",
        "colab_type": "code",
        "colab": {}
      },
      "source": [
        "# Check out the first 10 lines using head\n",
        "!head -n 10 small_reads.fastq"
      ],
      "execution_count": 0,
      "outputs": []
    },
    {
      "cell_type": "markdown",
      "metadata": {
        "id": "hGlCw98JJXel",
        "colab_type": "text"
      },
      "source": [
        "### Questions:\n",
        "\n",
        "1. How long is the first read in the file?\n",
        "2. Why does each read have more than one lines and what does each line mean?\n",
        "3. Can you figure out what species this DNA sequence is from?\n",
        "\n",
        "> **HINT**: It's a type of algae...try using a tool by NCBI.\n",
        "\n",
        "4. (Bonus) Can you write a very simple code chunk to count how many *reads* are contained in the `small_reads.fastq` file?\n",
        "\n",
        "> **HINT**: the number of lines does not equal the number of reads.\n",
        "\n",
        "---"
      ]
    },
    {
      "cell_type": "markdown",
      "metadata": {
        "id": "CZtOJBPp9sR6",
        "colab_type": "text"
      },
      "source": [
        "### Answers\n",
        "\n",
        "1.\n",
        "\n",
        "2.\n",
        "\n",
        "3.\n",
        "\n",
        "4."
      ]
    },
    {
      "cell_type": "markdown",
      "metadata": {
        "id": "gF4JXNCfL9zr",
        "colab_type": "text"
      },
      "source": [
        "## SAM/BAM Files\n",
        "\n",
        "A [SAM file](http://samtools.github.io/hts-specs/SAMv1.pdf) is standard file format for storing sequence data that is *aligned to a genome*. A BAM file is it's binary counterpart.\n",
        "\n",
        "SAM files are created when fastq files (containing sequence) are 'aligned' to a referenece genome."
      ]
    },
    {
      "cell_type": "markdown",
      "metadata": {
        "id": "cYUHTcw5YYdm",
        "colab_type": "text"
      },
      "source": [
        "## Reference genomes\n",
        "\n",
        "A [reference genome](https://en.wikipedia.org/wiki/Reference_genome) contains very long sequences [(chromosomes)](https://en.wikipedia.org/wiki/Chromosome) that the shorter sequences in fastq files can be compared to for matches. Once a match for a given fastq read is found in a genome, its coordinates and some standard statistics are stored as an entry in a SAM/BAM file.\n",
        "\n",
        "You can download the reference genome associated for the species in associated with `small_reads.fastq` by running the cell below."
      ]
    },
    {
      "cell_type": "code",
      "metadata": {
        "id": "NbyqAWDnUIXV",
        "colab_type": "code",
        "colab": {}
      },
      "source": [
        "!rm ref.fa*\n",
        "!wget -q https://portal.nersc.gov/cfs/m342/jgi_usa/scavenger_hunt/ref.fa"
      ],
      "execution_count": 0,
      "outputs": []
    },
    {
      "cell_type": "markdown",
      "metadata": {
        "id": "WL2lAw46UJSj",
        "colab_type": "text"
      },
      "source": [
        "Lets take a look at the `ref.fa` file we just downloaded"
      ]
    },
    {
      "cell_type": "code",
      "metadata": {
        "id": "Udzqxtk7I4uI",
        "colab_type": "code",
        "colab": {}
      },
      "source": [
        "!cat ref.fa | grep \">\" | head -n 5\n",
        "!echo \"Here is the beginning of Chromosome 1\"\n",
        "!head ref.fa"
      ],
      "execution_count": 0,
      "outputs": []
    },
    {
      "cell_type": "markdown",
      "metadata": {
        "id": "fFbWDMEdLtRx",
        "colab_type": "text"
      },
      "source": [
        "## Aligners\n",
        "\n",
        "You can use specialied sequence aligners to align the sequencing reads fastq files to reference genomes. One popular aligner is the `bwa-mem` program in the [Burrows-Wheeler Aligner](http://bio-bwa.sourceforge.net/).\n",
        "\n",
        "[Samtools](http://www.htslib.org/) is another popular software for working with SAM/BAM files. Samtools allows you to index, sort, analyze and view SAM/BAM files.\n"
      ]
    },
    {
      "cell_type": "markdown",
      "metadata": {
        "id": "V1lWimSAH4Z9",
        "colab_type": "text"
      },
      "source": [
        "#### Lets Install Samtools and BWA (this might take a minute)"
      ]
    },
    {
      "cell_type": "code",
      "metadata": {
        "id": "kiywq8HWJWKw",
        "colab_type": "code",
        "colab": {}
      },
      "source": [
        "# Download and install bwa\n",
        "!git clone https://github.com/lh3/bwa.git\n",
        "!cd bwa; make -s\n",
        "# Download and install samtools\n",
        "!wget -q https://github.com/samtools/samtools/releases/download/1.10/samtools-1.10.tar.bz2\n",
        "!tar -vxjf samtools-1.10.tar.bz2\n",
        "!cd samtools-1.10; ./configure --prefix=$PWD; make; make install"
      ],
      "execution_count": 0,
      "outputs": []
    },
    {
      "cell_type": "code",
      "metadata": {
        "id": "vfiCSshQWocM",
        "colab_type": "code",
        "colab": {}
      },
      "source": [
        "# Check samtools installation / version\n",
        "!samtools-1.10/bin/samtools --version"
      ],
      "execution_count": 0,
      "outputs": []
    },
    {
      "cell_type": "code",
      "metadata": {
        "id": "UvAsj3_8UfwY",
        "colab_type": "code",
        "colab": {}
      },
      "source": [
        "# Check installation and get manual for bwa-mem\n",
        "!./bwa/bwa mem"
      ],
      "execution_count": 0,
      "outputs": []
    },
    {
      "cell_type": "markdown",
      "metadata": {
        "id": "0G1OOU9OZKCf",
        "colab_type": "text"
      },
      "source": [
        "> Lets make a little helper function for tracking how long things are taking"
      ]
    },
    {
      "cell_type": "code",
      "metadata": {
        "id": "ZCCiEXFgP72h",
        "colab_type": "code",
        "colab": {}
      },
      "source": [
        "from datetime import datetime\n",
        "def get_time():\n",
        "  # returns the current time\n",
        "  return datetime.now()\n",
        "\n",
        "# get time difference between 2 `get_times()`\n",
        "def time_diff(start, end):\n",
        "  return str(end-start)"
      ],
      "execution_count": 0,
      "outputs": []
    },
    {
      "cell_type": "markdown",
      "metadata": {
        "id": "PGeiXexuhAiV",
        "colab_type": "text"
      },
      "source": [
        "Reference genomes need to be indexed before they can be used in alignment."
      ]
    },
    {
      "cell_type": "code",
      "metadata": {
        "id": "uzccbA_SMm1r",
        "colab_type": "code",
        "colab": {}
      },
      "source": [
        "# Index your Reference File\n",
        "start = get_time()\n",
        "!./bwa/bwa index ref.fa\n",
        "end = get_time()\n",
        "print(\"indexing took: \" + time_diff(start,end))"
      ],
      "execution_count": 0,
      "outputs": []
    },
    {
      "cell_type": "markdown",
      "metadata": {
        "id": "Mn920P21hMIV",
        "colab_type": "text"
      },
      "source": [
        "Now that our genome is indexed we can use BWA to align the fastq reads to it and output the alignments as a SAM file."
      ]
    },
    {
      "cell_type": "markdown",
      "metadata": {
        "id": "cKzBG55HkkLO",
        "colab_type": "text"
      },
      "source": [
        "Now lets align our larger fastq file to the genome"
      ]
    },
    {
      "cell_type": "code",
      "metadata": {
        "id": "lqTRq1f0g_zC",
        "colab_type": "code",
        "colab": {}
      },
      "source": [
        "# Align your reads\n",
        "!./bwa/bwa mem -p -t 2 ref.fa small_reads.fastq | samtools-1.10/bin/samtools view -h -F 4 > alignments.sam"
      ],
      "execution_count": 0,
      "outputs": []
    },
    {
      "cell_type": "markdown",
      "metadata": {
        "id": "NJd82F8XSIDN",
        "colab_type": "text"
      },
      "source": [
        "The SAM file has a header containing lines starting with `@SQ`. Lets get rid of the `@SQ` rows so we can see our first few reads"
      ]
    },
    {
      "cell_type": "code",
      "metadata": {
        "id": "JrDITPRkSBjf",
        "colab_type": "code",
        "colab": {}
      },
      "source": [
        "!cat alignments.sam | grep -v \"@SQ\" | head"
      ],
      "execution_count": 0,
      "outputs": []
    },
    {
      "cell_type": "markdown",
      "metadata": {
        "id": "JUEj1OGqZr8N",
        "colab_type": "text"
      },
      "source": [
        "### Questions\n",
        "\n",
        "1. Use samtools to count how many sequencing reads were aligned by bwa-mem. ([samtools docs]([samtools](http://www.htslib.org/doc/samtools-view.html)))\n",
        "\n",
        "> **HINT**: Use `!samtools-1.10/bin/samtools view --help`.\n",
        "\n",
        "2. Calculate the alignment rate (hint: `alignment rate = aligned reads/total reads`). \n",
        "\n",
        "3. Using samtools, convert `alignments.sam` into a bam file `alignments.bam` and compare the sizes of the two files.\n",
        "\n",
        "4. How long did it take for bwa to align the fastq file to the reference genome?"
      ]
    },
    {
      "cell_type": "markdown",
      "metadata": {
        "id": "-DZu6QuS9uxI",
        "colab_type": "text"
      },
      "source": [
        "### Answers\n",
        "\n",
        "1.\n",
        "\n",
        "2.\n",
        "\n",
        "3.\n",
        "\n",
        "4."
      ]
    }
  ]
}